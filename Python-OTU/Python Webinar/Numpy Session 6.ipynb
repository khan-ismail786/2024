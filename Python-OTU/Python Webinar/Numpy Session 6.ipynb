{
 "cells": [
  {
   "cell_type": "markdown",
   "metadata": {},
   "source": [
    "# Numpy Array"
   ]
  },
  {
   "cell_type": "code",
   "execution_count": 1,
   "metadata": {},
   "outputs": [
    {
     "name": "stdout",
     "output_type": "stream",
     "text": [
      "Collecting package metadata (current_repodata.json): done\n",
      "Solving environment: done\n",
      "\n",
      "# All requested packages already installed.\n",
      "\n",
      "\n",
      "Note: you may need to restart the kernel to use updated packages.\n"
     ]
    }
   ],
   "source": [
    "#conda install numpy"
   ]
  },
  {
   "cell_type": "code",
   "execution_count": 2,
   "metadata": {},
   "outputs": [
    {
     "data": {
      "text/plain": [
       "array([1, 2, 3])"
      ]
     },
     "execution_count": 2,
     "metadata": {},
     "output_type": "execute_result"
    }
   ],
   "source": [
    "import numpy as np\n",
    "np.array([1, 2, 3])"
   ]
  },
  {
   "cell_type": "code",
   "execution_count": 2,
   "metadata": {},
   "outputs": [],
   "source": [
    "#Upcasting:"
   ]
  },
  {
   "cell_type": "code",
   "execution_count": 3,
   "metadata": {},
   "outputs": [
    {
     "data": {
      "text/plain": [
       "array([1., 2., 3.])"
      ]
     },
     "execution_count": 3,
     "metadata": {},
     "output_type": "execute_result"
    }
   ],
   "source": [
    "np.array([1, 2, 3.0])"
   ]
  },
  {
   "cell_type": "code",
   "execution_count": 4,
   "metadata": {},
   "outputs": [],
   "source": [
    "#two dimensions"
   ]
  },
  {
   "cell_type": "code",
   "execution_count": 4,
   "metadata": {},
   "outputs": [
    {
     "data": {
      "text/plain": [
       "array([[1, 2],\n",
       "       [3, 4]])"
      ]
     },
     "execution_count": 4,
     "metadata": {},
     "output_type": "execute_result"
    }
   ],
   "source": [
    " np.array([[1, 2], [3, 4]])"
   ]
  },
  {
   "cell_type": "code",
   "execution_count": 5,
   "metadata": {},
   "outputs": [],
   "source": [
    "#Minimum dimensions 2:"
   ]
  },
  {
   "cell_type": "code",
   "execution_count": 6,
   "metadata": {},
   "outputs": [
    {
     "data": {
      "text/plain": [
       "array([[1, 2, 3]])"
      ]
     },
     "execution_count": 6,
     "metadata": {},
     "output_type": "execute_result"
    }
   ],
   "source": [
    "np.array([1, 2, 3], ndmin=2)"
   ]
  },
  {
   "cell_type": "code",
   "execution_count": 7,
   "metadata": {},
   "outputs": [],
   "source": [
    "#dtype"
   ]
  },
  {
   "cell_type": "code",
   "execution_count": 8,
   "metadata": {},
   "outputs": [
    {
     "data": {
      "text/plain": [
       "array([1.+0.j, 2.+0.j, 3.+0.j])"
      ]
     },
     "execution_count": 8,
     "metadata": {},
     "output_type": "execute_result"
    }
   ],
   "source": [
    " np.array([1, 2, 3], dtype=complex)"
   ]
  },
  {
   "cell_type": "code",
   "execution_count": 9,
   "metadata": {},
   "outputs": [],
   "source": [
    "#Data-type consisting of more than one element:"
   ]
  },
  {
   "cell_type": "code",
   "execution_count": 10,
   "metadata": {},
   "outputs": [],
   "source": [
    "x = np.array([(1,2),(3,4)],dtype=[('a','<i4'),('b','<i4')])"
   ]
  },
  {
   "cell_type": "code",
   "execution_count": 11,
   "metadata": {},
   "outputs": [
    {
     "data": {
      "text/plain": [
       "array([(1, 2), (3, 4)], dtype=[('a', '<i4'), ('b', '<i4')])"
      ]
     },
     "execution_count": 11,
     "metadata": {},
     "output_type": "execute_result"
    }
   ],
   "source": [
    "x"
   ]
  },
  {
   "cell_type": "code",
   "execution_count": 12,
   "metadata": {},
   "outputs": [
    {
     "data": {
      "text/plain": [
       "array([1, 3], dtype=int32)"
      ]
     },
     "execution_count": 12,
     "metadata": {},
     "output_type": "execute_result"
    }
   ],
   "source": [
    "x['a']"
   ]
  },
  {
   "cell_type": "code",
   "execution_count": 13,
   "metadata": {},
   "outputs": [],
   "source": [
    "#Creating an array from sub-classes:"
   ]
  },
  {
   "cell_type": "code",
   "execution_count": 14,
   "metadata": {},
   "outputs": [
    {
     "data": {
      "text/plain": [
       "array([[1, 2],\n",
       "       [3, 4]])"
      ]
     },
     "execution_count": 14,
     "metadata": {},
     "output_type": "execute_result"
    }
   ],
   "source": [
    "np.array(np.mat('1 2; 3 4'))"
   ]
  },
  {
   "cell_type": "code",
   "execution_count": 31,
   "metadata": {},
   "outputs": [
    {
     "data": {
      "text/plain": [
       "matrix([[1, 2],\n",
       "        [3, 4]])"
      ]
     },
     "execution_count": 31,
     "metadata": {},
     "output_type": "execute_result"
    }
   ],
   "source": [
    "np.array(np.mat('1 2; 3 4'), subok=True)"
   ]
  },
  {
   "cell_type": "markdown",
   "metadata": {},
   "source": [
    "# numpy.asarray"
   ]
  },
  {
   "cell_type": "code",
   "execution_count": 32,
   "metadata": {},
   "outputs": [],
   "source": [
    "#Convert a list into an array:"
   ]
  },
  {
   "cell_type": "code",
   "execution_count": 33,
   "metadata": {},
   "outputs": [],
   "source": [
    " a = [1, 2]"
   ]
  },
  {
   "cell_type": "code",
   "execution_count": 34,
   "metadata": {},
   "outputs": [
    {
     "data": {
      "text/plain": [
       "array([1, 2])"
      ]
     },
     "execution_count": 34,
     "metadata": {},
     "output_type": "execute_result"
    }
   ],
   "source": [
    "np.asarray(a)"
   ]
  },
  {
   "cell_type": "code",
   "execution_count": 35,
   "metadata": {},
   "outputs": [],
   "source": [
    "a = np.array([1, 2]) #Existing arrays are not copied"
   ]
  },
  {
   "cell_type": "code",
   "execution_count": 36,
   "metadata": {},
   "outputs": [
    {
     "data": {
      "text/plain": [
       "True"
      ]
     },
     "execution_count": 36,
     "metadata": {},
     "output_type": "execute_result"
    }
   ],
   "source": [
    "np.asarray(a) is a"
   ]
  },
  {
   "cell_type": "code",
   "execution_count": 37,
   "metadata": {},
   "outputs": [],
   "source": [
    "#If dtype is set, array is copied only if dtype does not match:"
   ]
  },
  {
   "cell_type": "code",
   "execution_count": 38,
   "metadata": {},
   "outputs": [],
   "source": [
    "a = np.array([1, 2], dtype=np.float32)"
   ]
  },
  {
   "cell_type": "code",
   "execution_count": 39,
   "metadata": {},
   "outputs": [
    {
     "data": {
      "text/plain": [
       "True"
      ]
     },
     "execution_count": 39,
     "metadata": {},
     "output_type": "execute_result"
    }
   ],
   "source": [
    "np.asarray(a, dtype=np.float32) is a"
   ]
  },
  {
   "cell_type": "code",
   "execution_count": 40,
   "metadata": {},
   "outputs": [
    {
     "data": {
      "text/plain": [
       "False"
      ]
     },
     "execution_count": 40,
     "metadata": {},
     "output_type": "execute_result"
    }
   ],
   "source": [
    "np.asarray(a, dtype=np.float64) is a"
   ]
  },
  {
   "cell_type": "code",
   "execution_count": 41,
   "metadata": {},
   "outputs": [],
   "source": [
    "# ndarray subclasses are not passed through"
   ]
  },
  {
   "cell_type": "code",
   "execution_count": 42,
   "metadata": {},
   "outputs": [
    {
     "data": {
      "text/plain": [
       "True"
      ]
     },
     "execution_count": 42,
     "metadata": {},
     "output_type": "execute_result"
    }
   ],
   "source": [
    "issubclass(np.matrix, np.ndarray)"
   ]
  },
  {
   "cell_type": "code",
   "execution_count": 6,
   "metadata": {},
   "outputs": [
    {
     "name": "stdout",
     "output_type": "stream",
     "text": [
      "[[1 2]]\n"
     ]
    }
   ],
   "source": [
    "a = np.matrix([[1, 2]])\n",
    "print(a)"
   ]
  },
  {
   "cell_type": "code",
   "execution_count": 44,
   "metadata": {},
   "outputs": [
    {
     "data": {
      "text/plain": [
       "False"
      ]
     },
     "execution_count": 44,
     "metadata": {},
     "output_type": "execute_result"
    }
   ],
   "source": [
    "np.asarray(a) is a"
   ]
  },
  {
   "cell_type": "code",
   "execution_count": 45,
   "metadata": {},
   "outputs": [
    {
     "data": {
      "text/plain": [
       "True"
      ]
     },
     "execution_count": 45,
     "metadata": {},
     "output_type": "execute_result"
    }
   ],
   "source": [
    "np.asanyarray(a) is a"
   ]
  },
  {
   "cell_type": "markdown",
   "metadata": {},
   "source": [
    "# numpy.asanyarray"
   ]
  },
  {
   "cell_type": "code",
   "execution_count": 46,
   "metadata": {},
   "outputs": [
    {
     "data": {
      "text/plain": [
       "array([1, 2])"
      ]
     },
     "execution_count": 46,
     "metadata": {},
     "output_type": "execute_result"
    }
   ],
   "source": [
    "a = [1, 2]\n",
    "np.asanyarray(a)"
   ]
  },
  {
   "cell_type": "code",
   "execution_count": 47,
   "metadata": {},
   "outputs": [],
   "source": [
    "a = np.matrix([1, 2])"
   ]
  },
  {
   "cell_type": "code",
   "execution_count": 48,
   "metadata": {},
   "outputs": [
    {
     "data": {
      "text/plain": [
       "True"
      ]
     },
     "execution_count": 48,
     "metadata": {},
     "output_type": "execute_result"
    }
   ],
   "source": [
    "np.asanyarray(a) is a"
   ]
  },
  {
   "cell_type": "raw",
   "metadata": {},
   "source": [
    "#numpy.copy"
   ]
  },
  {
   "cell_type": "code",
   "execution_count": 49,
   "metadata": {},
   "outputs": [
    {
     "data": {
      "text/plain": [
       "array([[1, 2]])"
      ]
     },
     "execution_count": 49,
     "metadata": {},
     "output_type": "execute_result"
    }
   ],
   "source": [
    "np.array(a, copy=True)  "
   ]
  },
  {
   "cell_type": "code",
   "execution_count": 50,
   "metadata": {},
   "outputs": [],
   "source": [
    "#Create an array x, with a reference y and a copy z:"
   ]
  },
  {
   "cell_type": "code",
   "execution_count": 51,
   "metadata": {},
   "outputs": [],
   "source": [
    "x = np.array([1, 2, 3])"
   ]
  },
  {
   "cell_type": "code",
   "execution_count": 52,
   "metadata": {},
   "outputs": [],
   "source": [
    "y = x"
   ]
  },
  {
   "cell_type": "code",
   "execution_count": 53,
   "metadata": {},
   "outputs": [],
   "source": [
    "z = np.copy(x)"
   ]
  },
  {
   "cell_type": "code",
   "execution_count": 54,
   "metadata": {},
   "outputs": [],
   "source": [
    "#when we modify x, y changes, but not z"
   ]
  },
  {
   "cell_type": "code",
   "execution_count": 55,
   "metadata": {},
   "outputs": [],
   "source": [
    "x[0] = 10"
   ]
  },
  {
   "cell_type": "code",
   "execution_count": 56,
   "metadata": {},
   "outputs": [
    {
     "data": {
      "text/plain": [
       "True"
      ]
     },
     "execution_count": 56,
     "metadata": {},
     "output_type": "execute_result"
    }
   ],
   "source": [
    "x[0] == y[0]"
   ]
  },
  {
   "cell_type": "code",
   "execution_count": 57,
   "metadata": {},
   "outputs": [
    {
     "data": {
      "text/plain": [
       "False"
      ]
     },
     "execution_count": 57,
     "metadata": {},
     "output_type": "execute_result"
    }
   ],
   "source": [
    "x[0] == z[0]"
   ]
  },
  {
   "cell_type": "markdown",
   "metadata": {},
   "source": [
    "# Read data from file"
   ]
  },
  {
   "cell_type": "code",
   "execution_count": 58,
   "metadata": {},
   "outputs": [],
   "source": [
    "#Construct an array from data in a text or binary file.A highly efficient way of reading binary data with a \n",
    "#known data-type, as well as parsing simply formatted text files. Data written using the tofile method can be \n",
    "#read using this function."
   ]
  },
  {
   "cell_type": "code",
   "execution_count": 81,
   "metadata": {},
   "outputs": [
    {
     "data": {
      "text/plain": [
       "array([10,  2,  3])"
      ]
     },
     "execution_count": 81,
     "metadata": {},
     "output_type": "execute_result"
    }
   ],
   "source": [
    "x"
   ]
  },
  {
   "cell_type": "code",
   "execution_count": 82,
   "metadata": {},
   "outputs": [],
   "source": [
    "import os"
   ]
  },
  {
   "cell_type": "code",
   "execution_count": 78,
   "metadata": {},
   "outputs": [
    {
     "data": {
      "text/plain": [
       "array([1.87585069e-309, 1.17119999e+171, 5.93271341e-037, 8.44740097e+252,\n",
       "       2.65141232e+180, 9.92152605e+247, 2.16209968e+233, 2.34519039e-110,\n",
       "       6.01347003e-154, 6.01347002e-154, 6.01347002e-154, 6.01347002e-154,\n",
       "       6.01347002e-154, 6.01347002e-154, 6.01347002e-154, 6.55490914e-260,\n",
       "       4.94065646e-323, 9.88131292e-324, 1.48219694e-323])"
      ]
     },
     "execution_count": 78,
     "metadata": {},
     "output_type": "execute_result"
    }
   ],
   "source": [
    "np.fromfile('/Users/sboya/Desktop/Python/Data.npy')"
   ]
  },
  {
   "cell_type": "code",
   "execution_count": 80,
   "metadata": {},
   "outputs": [],
   "source": [
    "np.save('/Users/sboya/Desktop/Python/Data', x)"
   ]
  },
  {
   "cell_type": "markdown",
   "metadata": {},
   "source": [
    "# numpy.fromfunction"
   ]
  },
  {
   "cell_type": "code",
   "execution_count": 49,
   "metadata": {},
   "outputs": [],
   "source": [
    "#Construct an array by executing a function over each coordinate."
   ]
  },
  {
   "cell_type": "code",
   "execution_count": 50,
   "metadata": {},
   "outputs": [
    {
     "data": {
      "text/plain": [
       "array([[ True, False, False],\n",
       "       [False,  True, False],\n",
       "       [False, False,  True]])"
      ]
     },
     "execution_count": 50,
     "metadata": {},
     "output_type": "execute_result"
    }
   ],
   "source": [
    "np.fromfunction(lambda i, j: i == j, (3, 3), dtype=int)"
   ]
  },
  {
   "cell_type": "code",
   "execution_count": 51,
   "metadata": {},
   "outputs": [
    {
     "data": {
      "text/plain": [
       "array([[0, 1, 2],\n",
       "       [1, 2, 3],\n",
       "       [2, 3, 4]])"
      ]
     },
     "execution_count": 51,
     "metadata": {},
     "output_type": "execute_result"
    }
   ],
   "source": [
    "np.fromfunction(lambda i, j: i + j, (3, 3), dtype=int)"
   ]
  },
  {
   "cell_type": "code",
   "execution_count": 52,
   "metadata": {},
   "outputs": [],
   "source": [
    "#Create a new 1-dimensional array from an iterable object."
   ]
  },
  {
   "cell_type": "code",
   "execution_count": 53,
   "metadata": {},
   "outputs": [],
   "source": [
    "iterable = (x*x for x in range(5))"
   ]
  },
  {
   "cell_type": "code",
   "execution_count": 54,
   "metadata": {},
   "outputs": [
    {
     "data": {
      "text/plain": [
       "array([ 0.,  1.,  4.,  9., 16.])"
      ]
     },
     "execution_count": 54,
     "metadata": {},
     "output_type": "execute_result"
    }
   ],
   "source": [
    "np.fromiter(iterable, float)"
   ]
  },
  {
   "cell_type": "code",
   "execution_count": 55,
   "metadata": {},
   "outputs": [],
   "source": [
    "#A new 1-D array initialized from text data in a string"
   ]
  },
  {
   "cell_type": "code",
   "execution_count": 56,
   "metadata": {},
   "outputs": [
    {
     "data": {
      "text/plain": [
       "array([1, 2])"
      ]
     },
     "execution_count": 56,
     "metadata": {},
     "output_type": "execute_result"
    }
   ],
   "source": [
    "np.fromstring('1 2', dtype=int, sep=' ')"
   ]
  },
  {
   "cell_type": "code",
   "execution_count": 57,
   "metadata": {},
   "outputs": [
    {
     "data": {
      "text/plain": [
       "array([1, 2])"
      ]
     },
     "execution_count": 57,
     "metadata": {},
     "output_type": "execute_result"
    }
   ],
   "source": [
    "np.fromstring('1, 2', dtype=int, sep=',')"
   ]
  },
  {
   "cell_type": "markdown",
   "metadata": {},
   "source": []
  },
  {
   "cell_type": "code",
   "execution_count": 58,
   "metadata": {},
   "outputs": [],
   "source": [
    "from io import StringIO"
   ]
  },
  {
   "cell_type": "code",
   "execution_count": 59,
   "metadata": {},
   "outputs": [],
   "source": [
    "c = StringIO(\"0 1\\n2 3\")"
   ]
  },
  {
   "cell_type": "code",
   "execution_count": 60,
   "metadata": {},
   "outputs": [
    {
     "data": {
      "text/plain": [
       "array([[0., 1.],\n",
       "       [2., 3.]])"
      ]
     },
     "execution_count": 60,
     "metadata": {},
     "output_type": "execute_result"
    }
   ],
   "source": [
    "np.loadtxt(c)"
   ]
  },
  {
   "cell_type": "code",
   "execution_count": 61,
   "metadata": {},
   "outputs": [],
   "source": [
    "d = StringIO(\"M 21 72\\nF 35 58\")"
   ]
  },
  {
   "cell_type": "code",
   "execution_count": 62,
   "metadata": {},
   "outputs": [
    {
     "data": {
      "text/plain": [
       "array([(b'M', 21, 72.), (b'F', 35, 58.)],\n",
       "      dtype=[('gender', 'S1'), ('age', '<i4'), ('weight', '<f4')])"
      ]
     },
     "execution_count": 62,
     "metadata": {},
     "output_type": "execute_result"
    }
   ],
   "source": [
    "np.loadtxt(d, dtype={'names': ('gender', 'age', 'weight'),\n",
    "...                      'formats': ('S1', 'i4', 'f4')})"
   ]
  },
  {
   "cell_type": "code",
   "execution_count": 63,
   "metadata": {},
   "outputs": [],
   "source": [
    "c = StringIO(\"1,0,2\\n3,0,4\")"
   ]
  },
  {
   "cell_type": "code",
   "execution_count": 64,
   "metadata": {},
   "outputs": [],
   "source": [
    "x, y = np.loadtxt(c, delimiter=',', usecols=(0, 2), unpack=True)"
   ]
  },
  {
   "cell_type": "code",
   "execution_count": 65,
   "metadata": {},
   "outputs": [
    {
     "data": {
      "text/plain": [
       "array([1., 3.])"
      ]
     },
     "execution_count": 65,
     "metadata": {},
     "output_type": "execute_result"
    }
   ],
   "source": [
    "x"
   ]
  },
  {
   "cell_type": "code",
   "execution_count": 66,
   "metadata": {},
   "outputs": [
    {
     "data": {
      "text/plain": [
       "array([2., 4.])"
      ]
     },
     "execution_count": 66,
     "metadata": {},
     "output_type": "execute_result"
    }
   ],
   "source": [
    "y"
   ]
  },
  {
   "cell_type": "code",
   "execution_count": 67,
   "metadata": {},
   "outputs": [],
   "source": [
    "# How to create create a record array from a (flat) list of arrays"
   ]
  },
  {
   "cell_type": "code",
   "execution_count": 68,
   "metadata": {},
   "outputs": [],
   "source": [
    "x1=np.array([1,2,3,4])"
   ]
  },
  {
   "cell_type": "code",
   "execution_count": 69,
   "metadata": {},
   "outputs": [],
   "source": [
    "x2=np.array(['a','dd','xyz','12'])"
   ]
  },
  {
   "cell_type": "code",
   "execution_count": 70,
   "metadata": {},
   "outputs": [],
   "source": [
    "x3=np.array([1.1,2,3,4])"
   ]
  },
  {
   "cell_type": "code",
   "execution_count": 71,
   "metadata": {},
   "outputs": [],
   "source": [
    "r = np.core.records.fromarrays([x1,x2,x3],names='a,b,c')"
   ]
  },
  {
   "cell_type": "code",
   "execution_count": 72,
   "metadata": {},
   "outputs": [
    {
     "name": "stdout",
     "output_type": "stream",
     "text": [
      "(2, 'dd', 2.)\n"
     ]
    }
   ],
   "source": [
    "print(r[1])"
   ]
  },
  {
   "cell_type": "raw",
   "metadata": {},
   "source": [
    "x1[1]=34"
   ]
  },
  {
   "cell_type": "code",
   "execution_count": 73,
   "metadata": {},
   "outputs": [
    {
     "data": {
      "text/plain": [
       "array([1, 2, 3, 4])"
      ]
     },
     "execution_count": 73,
     "metadata": {},
     "output_type": "execute_result"
    }
   ],
   "source": [
    "r.a"
   ]
  },
  {
   "cell_type": "markdown",
   "metadata": {},
   "source": [
    "# data types"
   ]
  },
  {
   "cell_type": "code",
   "execution_count": 1,
   "metadata": {},
   "outputs": [
    {
     "name": "stdout",
     "output_type": "stream",
     "text": [
      "Type/Class of this object: <class 'numpy.ndarray'>\n",
      "Here is the vector\n",
      "--------------------\n",
      " [1 2 3]\n"
     ]
    }
   ],
   "source": [
    "my_list = [1,2,3]\n",
    "import numpy as np\n",
    "arr = np.array(my_list)\n",
    "print(\"Type/Class of this object:\",type(arr))\n",
    "print(\"Here is the vector\\n--------------------\\n\",arr)"
   ]
  },
  {
   "cell_type": "code",
   "execution_count": 7,
   "metadata": {},
   "outputs": [
    {
     "name": "stdout",
     "output_type": "stream",
     "text": [
      "Type/Class of this object: <class 'numpy.ndarray'>\n",
      "Here is the matrix\n",
      "----------\n",
      " [[1 2 3]\n",
      " [4 5 6]\n",
      " [7 8 9]] \n",
      "----------\n",
      "Dimension of this matrix: 2\n",
      "Size of this matrix: 9\n",
      "Shape of this matrix: (3, 3)\n",
      "Data type of this matrix: int64\n"
     ]
    }
   ],
   "source": [
    "my_mat = [[1,2,3],[4,5,6],[7,8,9]]\n",
    "mat = np.array(my_mat)\n",
    "print(\"Type/Class of this object:\",type(mat))\n",
    "print(\"Here is the matrix\\n----------\\n\",mat,\"\\n----------\")\n",
    "print(\"Dimension of this matrix: \",mat.ndim,sep='') #ndim gives the dimensison, 2 for a matrix, 1 for a vector\n",
    "print(\"Size of this matrix: \", mat.size,sep='') #size gives the total number of elements\n",
    "print(\"Shape of this matrix: \", mat.shape,sep='') #shape gives the number of elements along each axes (dimension)\n",
    "print(\"Data type of this matrix: \", mat.dtype,sep='') #dtype gives the data type contained in the array\n"
   ]
  },
  {
   "cell_type": "code",
   "execution_count": 76,
   "metadata": {},
   "outputs": [
    {
     "name": "stdout",
     "output_type": "stream",
     "text": [
      "Data type of the modified matrix: float64\n",
      "\n",
      "\n",
      "Even tuples can be converted to ndarrays...\n"
     ]
    }
   ],
   "source": [
    "my_mat = [[1.1,2,3],[4,5.2,6],[7,8.3,9]]\n",
    "mat = np.array(my_mat)\n",
    "print(\"Data type of the modified matrix: \", mat.dtype,sep='') #dtype gives the data type contained in the array\n",
    "print(\"\\n\\nEven tuples can be converted to ndarrays...\")\n"
   ]
  },
  {
   "cell_type": "code",
   "execution_count": 77,
   "metadata": {},
   "outputs": [
    {
     "name": "stdout",
     "output_type": "stream",
     "text": [
      "We write b = np.array([(1.5,2,3), (4,5,6)])\n",
      "Matrix made from tuples, not lists\n",
      "---------------------------------------\n",
      "[[1.5 2.  3. ]\n",
      " [4.  5.  6. ]]\n"
     ]
    }
   ],
   "source": [
    "b = np.array([(1.5,2,3), (4,5,6)])\n",
    "print(\"We write b = np.array([(1.5,2,3), (4,5,6)])\")\n",
    "print(\"Matrix made from tuples, not lists\\n---------------------------------------\")\n",
    "print(b)"
   ]
  },
  {
   "cell_type": "markdown",
   "metadata": {},
   "source": [
    "# arange and linspace"
   ]
  },
  {
   "cell_type": "code",
   "execution_count": 78,
   "metadata": {},
   "outputs": [
    {
     "name": "stdout",
     "output_type": "stream",
     "text": [
      "A series of numbers: [ 5  6  7  8  9 10 11 12 13 14 15]\n"
     ]
    }
   ],
   "source": [
    "print(\"A series of numbers:\",np.arange(5,16)) # A series of numbers from low to high"
   ]
  },
  {
   "cell_type": "code",
   "execution_count": 79,
   "metadata": {},
   "outputs": [
    {
     "name": "stdout",
     "output_type": "stream",
     "text": [
      "Numbers spaced apart by 2: [ 0  2  4  6  8 10]\n"
     ]
    }
   ],
   "source": [
    "print(\"Numbers spaced apart by 2:\",np.arange(0,11,2)) # Numbers spaced apart by 2"
   ]
  },
  {
   "cell_type": "code",
   "execution_count": 80,
   "metadata": {},
   "outputs": [
    {
     "name": "stdout",
     "output_type": "stream",
     "text": [
      "Numbers spaced apart by float: [ 0.   2.5  5.   7.5 10. ]\n"
     ]
    }
   ],
   "source": [
    "print(\"Numbers spaced apart by float:\",np.arange(0,11,2.5)) # Numbers spaced apart by 2.5"
   ]
  },
  {
   "cell_type": "code",
   "execution_count": 81,
   "metadata": {},
   "outputs": [
    {
     "name": "stdout",
     "output_type": "stream",
     "text": [
      "Every 5th number from 50 in reverse order\n",
      " [50 45 40 35 30 25 20 15 10  5  0]\n"
     ]
    }
   ],
   "source": [
    "print(\"Every 5th number from 50 in reverse order\\n\",np.arange(50,-1,-5))"
   ]
  },
  {
   "cell_type": "code",
   "execution_count": 82,
   "metadata": {},
   "outputs": [
    {
     "name": "stdout",
     "output_type": "stream",
     "text": [
      "21 linearly spaced numbers between 1 and 5\n",
      "--------------------------------------------\n",
      "[1.  1.2 1.4 1.6 1.8 2.  2.2 2.4 2.6 2.8 3.  3.2 3.4 3.6 3.8 4.  4.2 4.4\n",
      " 4.6 4.8 5. ]\n"
     ]
    }
   ],
   "source": [
    "print(\"21 linearly spaced numbers between 1 and 5\\n--------------------------------------------\")\n",
    "print(np.linspace(1,5,21))"
   ]
  },
  {
   "cell_type": "markdown",
   "metadata": {},
   "source": [
    "# Matrix creation"
   ]
  },
  {
   "cell_type": "code",
   "execution_count": 83,
   "metadata": {},
   "outputs": [
    {
     "name": "stdout",
     "output_type": "stream",
     "text": [
      "Vector of zeroes\n",
      "---------------------\n",
      "[0. 0. 0. 0. 0.]\n"
     ]
    }
   ],
   "source": [
    "print(\"Vector of zeroes\\n---------------------\")\n",
    "print(np.zeros(5))"
   ]
  },
  {
   "cell_type": "code",
   "execution_count": 84,
   "metadata": {},
   "outputs": [
    {
     "name": "stdout",
     "output_type": "stream",
     "text": [
      "Matrix of zeroes\n",
      "--------------------\n",
      "[[0. 0. 0. 0.]\n",
      " [0. 0. 0. 0.]\n",
      " [0. 0. 0. 0.]]\n"
     ]
    }
   ],
   "source": [
    "print(\"Matrix of zeroes\\n--------------------\")\n",
    "print(np.zeros((3,4))) # Notice Tuples"
   ]
  },
  {
   "cell_type": "code",
   "execution_count": 85,
   "metadata": {},
   "outputs": [
    {
     "name": "stdout",
     "output_type": "stream",
     "text": [
      "Vector of ones\n",
      "---------------------\n",
      "[1. 1. 1. 1. 1.]\n"
     ]
    }
   ],
   "source": [
    "print(\"Vector of ones\\n---------------------\")\n",
    "print(np.ones(5))"
   ]
  },
  {
   "cell_type": "code",
   "execution_count": 86,
   "metadata": {},
   "outputs": [
    {
     "name": "stdout",
     "output_type": "stream",
     "text": [
      "Matrix of ones\n",
      "---------------------\n",
      "[[1. 1.]\n",
      " [1. 1.]\n",
      " [1. 1.]\n",
      " [1. 1.]\n",
      " [1. 1.]]\n"
     ]
    }
   ],
   "source": [
    "print(\"Matrix of ones\\n---------------------\")\n",
    "print(np.ones((5,2))) # Note matrix dimension specified by Tuples\n"
   ]
  },
  {
   "cell_type": "code",
   "execution_count": 87,
   "metadata": {},
   "outputs": [
    {
     "name": "stdout",
     "output_type": "stream",
     "text": [
      "Matrix of 5's\n",
      "---------------------\n",
      "[[5. 5. 5. 5. 5.]\n",
      " [5. 5. 5. 5. 5.]\n",
      " [5. 5. 5. 5. 5.]]\n"
     ]
    }
   ],
   "source": [
    "print(\"Matrix of 5's\\n---------------------\")\n",
    "print(5*np.ones((3,5)))"
   ]
  },
  {
   "cell_type": "code",
   "execution_count": 88,
   "metadata": {},
   "outputs": [
    {
     "name": "stdout",
     "output_type": "stream",
     "text": [
      "Empty matrix\n",
      "-------------\n",
      " [[5. 5. 5. 5. 5.]\n",
      " [5. 5. 5. 5. 5.]\n",
      " [5. 5. 5. 5. 5.]]\n"
     ]
    }
   ],
   "source": [
    "print(\"Empty matrix\\n-------------\\n\", np.empty((3,5)))"
   ]
  },
  {
   "cell_type": "code",
   "execution_count": 89,
   "metadata": {},
   "outputs": [
    {
     "name": "stdout",
     "output_type": "stream",
     "text": [
      "Identity matrix of dimension (4, 4)\n",
      "[[1. 0. 0. 0.]\n",
      " [0. 1. 0. 0.]\n",
      " [0. 0. 1. 0.]\n",
      " [0. 0. 0. 1.]]\n"
     ]
    }
   ],
   "source": [
    "mat1 = np.eye(4) \n",
    "print(\"Identity matrix of dimension\", mat1.shape)\n",
    "print(mat1)"
   ]
  },
  {
   "cell_type": "code",
   "execution_count": 90,
   "metadata": {},
   "outputs": [
    {
     "data": {
      "text/plain": [
       "array([0, 1, 2])"
      ]
     },
     "execution_count": 90,
     "metadata": {},
     "output_type": "execute_result"
    }
   ],
   "source": [
    "np.arange(3)"
   ]
  },
  {
   "cell_type": "code",
   "execution_count": 91,
   "metadata": {},
   "outputs": [
    {
     "data": {
      "text/plain": [
       "array([0., 1., 2.])"
      ]
     },
     "execution_count": 91,
     "metadata": {},
     "output_type": "execute_result"
    }
   ],
   "source": [
    "np.arange(3.0)"
   ]
  },
  {
   "cell_type": "code",
   "execution_count": 92,
   "metadata": {},
   "outputs": [
    {
     "data": {
      "text/plain": [
       "array([3, 4, 5, 6])"
      ]
     },
     "execution_count": 92,
     "metadata": {},
     "output_type": "execute_result"
    }
   ],
   "source": [
    " np.arange(3,7)"
   ]
  },
  {
   "cell_type": "code",
   "execution_count": 93,
   "metadata": {},
   "outputs": [
    {
     "data": {
      "text/plain": [
       "array([3, 5])"
      ]
     },
     "execution_count": 93,
     "metadata": {},
     "output_type": "execute_result"
    }
   ],
   "source": [
    "np.arange(3,7,2)"
   ]
  },
  {
   "cell_type": "code",
   "execution_count": 94,
   "metadata": {},
   "outputs": [
    {
     "data": {
      "text/plain": [
       "array([2.  , 2.25, 2.5 , 2.75, 3.  ])"
      ]
     },
     "execution_count": 94,
     "metadata": {},
     "output_type": "execute_result"
    }
   ],
   "source": [
    "np.linspace(2.0, 3.0, num=5)"
   ]
  },
  {
   "cell_type": "code",
   "execution_count": 95,
   "metadata": {},
   "outputs": [
    {
     "data": {
      "text/plain": [
       "array([2. , 2.2, 2.4, 2.6, 2.8])"
      ]
     },
     "execution_count": 95,
     "metadata": {},
     "output_type": "execute_result"
    }
   ],
   "source": [
    "np.linspace(2.0, 3.0, num=5, endpoint=False)"
   ]
  },
  {
   "cell_type": "code",
   "execution_count": 145,
   "metadata": {},
   "outputs": [
    {
     "data": {
      "text/plain": [
       "(array([2.  , 2.25, 2.5 , 2.75, 3.  ]), 0.25)"
      ]
     },
     "execution_count": 145,
     "metadata": {},
     "output_type": "execute_result"
    }
   ],
   "source": [
    "np.linspace(2.0, 3.0, num=5, retstep=True)"
   ]
  },
  {
   "cell_type": "code",
   "execution_count": 110,
   "metadata": {
    "collapsed": true
   },
   "outputs": [],
   "source": [
    "#Return numbers spaced evenly on a log scale."
   ]
  },
  {
   "cell_type": "code",
   "execution_count": 112,
   "metadata": {},
   "outputs": [
    {
     "data": {
      "text/plain": [
       "array([  100.        ,   215.443469  ,   464.15888336,  1000.        ])"
      ]
     },
     "execution_count": 112,
     "metadata": {},
     "output_type": "execute_result"
    }
   ],
   "source": [
    "np.logspace(2.0, 3.0, num=4)"
   ]
  },
  {
   "cell_type": "code",
   "execution_count": 113,
   "metadata": {},
   "outputs": [
    {
     "data": {
      "text/plain": [
       "array([ 100.        ,  177.827941  ,  316.22776602,  562.34132519])"
      ]
     },
     "execution_count": 113,
     "metadata": {},
     "output_type": "execute_result"
    }
   ],
   "source": [
    "np.logspace(2.0, 3.0, num=4, endpoint=False)"
   ]
  },
  {
   "cell_type": "code",
   "execution_count": 114,
   "metadata": {},
   "outputs": [
    {
     "data": {
      "text/plain": [
       "array([ 4.        ,  5.0396842 ,  6.34960421,  8.        ])"
      ]
     },
     "execution_count": 114,
     "metadata": {},
     "output_type": "execute_result"
    }
   ],
   "source": [
    "np.logspace(2.0, 3.0, num=4, base=2.0)"
   ]
  },
  {
   "cell_type": "code",
   "execution_count": 115,
   "metadata": {
    "collapsed": true
   },
   "outputs": [],
   "source": [
    "#Extract a diagonal or construct a diagonal array."
   ]
  },
  {
   "cell_type": "code",
   "execution_count": 116,
   "metadata": {
    "collapsed": true
   },
   "outputs": [],
   "source": [
    "x = np.arange(9).reshape((3,3))"
   ]
  },
  {
   "cell_type": "code",
   "execution_count": 117,
   "metadata": {},
   "outputs": [
    {
     "data": {
      "text/plain": [
       "array([[0, 1, 2],\n",
       "       [3, 4, 5],\n",
       "       [6, 7, 8]])"
      ]
     },
     "execution_count": 117,
     "metadata": {},
     "output_type": "execute_result"
    }
   ],
   "source": [
    "x"
   ]
  },
  {
   "cell_type": "code",
   "execution_count": 118,
   "metadata": {},
   "outputs": [
    {
     "data": {
      "text/plain": [
       "array([0, 4, 8])"
      ]
     },
     "execution_count": 118,
     "metadata": {},
     "output_type": "execute_result"
    }
   ],
   "source": [
    "np.diag(x)"
   ]
  },
  {
   "cell_type": "code",
   "execution_count": 119,
   "metadata": {},
   "outputs": [
    {
     "data": {
      "text/plain": [
       "array([1, 5])"
      ]
     },
     "execution_count": 119,
     "metadata": {},
     "output_type": "execute_result"
    }
   ],
   "source": [
    "np.diag(x, k=1)"
   ]
  },
  {
   "cell_type": "code",
   "execution_count": 120,
   "metadata": {},
   "outputs": [
    {
     "data": {
      "text/plain": [
       "array([3, 7])"
      ]
     },
     "execution_count": 120,
     "metadata": {},
     "output_type": "execute_result"
    }
   ],
   "source": [
    "np.diag(x, k=-1)"
   ]
  },
  {
   "cell_type": "code",
   "execution_count": 121,
   "metadata": {},
   "outputs": [
    {
     "data": {
      "text/plain": [
       "array([[0, 0, 0],\n",
       "       [0, 4, 0],\n",
       "       [0, 0, 8]])"
      ]
     },
     "execution_count": 121,
     "metadata": {},
     "output_type": "execute_result"
    }
   ],
   "source": [
    "np.diag(np.diag(x))"
   ]
  },
  {
   "cell_type": "code",
   "execution_count": 122,
   "metadata": {
    "collapsed": true
   },
   "outputs": [],
   "source": [
    "#Create a two-dimensional array with the flattened input as a diagonal."
   ]
  },
  {
   "cell_type": "code",
   "execution_count": 97,
   "metadata": {},
   "outputs": [
    {
     "data": {
      "text/plain": [
       "array([[1, 0, 0, 0],\n",
       "       [0, 2, 0, 0],\n",
       "       [0, 0, 3, 0],\n",
       "       [0, 0, 0, 4]])"
      ]
     },
     "execution_count": 97,
     "metadata": {},
     "output_type": "execute_result"
    }
   ],
   "source": [
    "np.diagflat([[1,2], [3,4]])\n"
   ]
  },
  {
   "cell_type": "code",
   "execution_count": 99,
   "metadata": {},
   "outputs": [
    {
     "data": {
      "text/plain": [
       "array([[0, 1, 0],\n",
       "       [0, 0, 2],\n",
       "       [0, 0, 0]])"
      ]
     },
     "execution_count": 99,
     "metadata": {},
     "output_type": "execute_result"
    }
   ],
   "source": [
    "np.diagflat([1,2], 1)"
   ]
  },
  {
   "cell_type": "code",
   "execution_count": 100,
   "metadata": {},
   "outputs": [],
   "source": [
    "#An array with ones at and below the given diagonal and zeros elsewhere."
   ]
  },
  {
   "cell_type": "code",
   "execution_count": 101,
   "metadata": {},
   "outputs": [
    {
     "data": {
      "text/plain": [
       "array([[1, 1, 1, 0, 0],\n",
       "       [1, 1, 1, 1, 0],\n",
       "       [1, 1, 1, 1, 1]])"
      ]
     },
     "execution_count": 101,
     "metadata": {},
     "output_type": "execute_result"
    }
   ],
   "source": [
    "np.tri(3, 5, 2, dtype=int)"
   ]
  },
  {
   "cell_type": "code",
   "execution_count": 102,
   "metadata": {},
   "outputs": [
    {
     "data": {
      "text/plain": [
       "array([[0., 0., 0., 0., 0.],\n",
       "       [1., 0., 0., 0., 0.],\n",
       "       [1., 1., 0., 0., 0.]])"
      ]
     },
     "execution_count": 102,
     "metadata": {},
     "output_type": "execute_result"
    }
   ],
   "source": [
    "np.tri(3, 5, -1)"
   ]
  },
  {
   "cell_type": "code",
   "execution_count": 128,
   "metadata": {
    "collapsed": true
   },
   "outputs": [],
   "source": [
    "#return a Lower triangle of an array."
   ]
  },
  {
   "cell_type": "code",
   "execution_count": 129,
   "metadata": {},
   "outputs": [
    {
     "data": {
      "text/plain": [
       "array([[ 0,  0,  0],\n",
       "       [ 4,  0,  0],\n",
       "       [ 7,  8,  0],\n",
       "       [10, 11, 12]])"
      ]
     },
     "execution_count": 129,
     "metadata": {},
     "output_type": "execute_result"
    }
   ],
   "source": [
    "np.tril([[1,2,3],[4,5,6],[7,8,9],[10,11,12]], -1)"
   ]
  },
  {
   "cell_type": "code",
   "execution_count": 130,
   "metadata": {
    "collapsed": true
   },
   "outputs": [],
   "source": [
    "#return Upper triangle of an array."
   ]
  },
  {
   "cell_type": "code",
   "execution_count": 131,
   "metadata": {},
   "outputs": [
    {
     "data": {
      "text/plain": [
       "array([[ 1,  2,  3],\n",
       "       [ 4,  5,  6],\n",
       "       [ 0,  8,  9],\n",
       "       [ 0,  0, 12]])"
      ]
     },
     "execution_count": 131,
     "metadata": {},
     "output_type": "execute_result"
    }
   ],
   "source": [
    "np.triu([[1,2,3],[4,5,6],[7,8,9],[10,11,12]], -1)"
   ]
  },
  {
   "cell_type": "markdown",
   "metadata": {},
   "source": [
    "# Random number generation"
   ]
  },
  {
   "cell_type": "code",
   "execution_count": 103,
   "metadata": {},
   "outputs": [
    {
     "name": "stdout",
     "output_type": "stream",
     "text": [
      "Random number generation (from Uniform distribution)\n",
      "[[0.70550248 0.59870053 0.07337408]\n",
      " [0.25888542 0.98392526 0.47780952]]\n"
     ]
    }
   ],
   "source": [
    "print(\"Random number generation (from Uniform distribution)\")\n",
    "print(np.random.rand(2,3)) # 2 by 3 matrix with random numbers ranging from 0 to 1, Note no Tuple is necessary "
   ]
  },
  {
   "cell_type": "code",
   "execution_count": 104,
   "metadata": {},
   "outputs": [
    {
     "name": "stdout",
     "output_type": "stream",
     "text": [
      "Numbers from Normal distribution with zero mean and standard deviation 1 i.e. standard normal\n",
      "[[ 1.64055421  0.41135278 -0.4151374 ]\n",
      " [ 0.34908333 -0.61334663 -0.35348819]\n",
      " [-0.6260206  -0.7066791   0.53249304]\n",
      " [-1.16698303  0.35241476  0.8286486 ]]\n"
     ]
    }
   ],
   "source": [
    "print(\"Numbers from Normal distribution with zero mean and standard deviation 1 i.e. standard normal\")\n",
    "print(np.random.randn(4,3))"
   ]
  },
  {
   "cell_type": "code",
   "execution_count": 105,
   "metadata": {},
   "outputs": [
    {
     "name": "stdout",
     "output_type": "stream",
     "text": [
      "Random integer vector: [77  2 18 72 80 49 39 12 85 12]\n",
      "\n",
      "Random integer matrix\n"
     ]
    }
   ],
   "source": [
    "print(\"Random integer vector:\",np.random.randint(1,100,10)) #randint (low, high, # of samples to be drawn)\n",
    "print (\"\\nRandom integer matrix\")\n"
   ]
  },
  {
   "cell_type": "code",
   "execution_count": 106,
   "metadata": {},
   "outputs": [
    {
     "name": "stdout",
     "output_type": "stream",
     "text": [
      "[[31 55 61 31]\n",
      " [28  3 15 11]\n",
      " [14 52 56 69]\n",
      " [37 25 98 45]]\n",
      "\n",
      "20 samples drawn from a dice throw: [2 2 5 6 5 6 6 5 2 4 2 3 2 1 6 6 3 5 2 4]\n"
     ]
    }
   ],
   "source": [
    "print(np.random.randint(1,100,(4,4))) #randint (low, high, # of samples to be drawn in a tuple to form a matrix)\n",
    "print(\"\\n20 samples drawn from a dice throw:\",np.random.randint(1,7,20)) # 20 samples drawn from a dice throw"
   ]
  },
  {
   "cell_type": "markdown",
   "metadata": {},
   "source": [
    "# Reshaping"
   ]
  },
  {
   "cell_type": "code",
   "execution_count": 107,
   "metadata": {},
   "outputs": [],
   "source": [
    "from numpy.random import randint as ri\n",
    "a = ri(1,100,30)\n",
    "b = a.reshape(2,3,5)\n",
    "c = a.reshape(6,5)\n"
   ]
  },
  {
   "cell_type": "code",
   "execution_count": 108,
   "metadata": {},
   "outputs": [
    {
     "name": "stdout",
     "output_type": "stream",
     "text": [
      "Shape of a: (30,)\n",
      "Shape of b: (2, 3, 5)\n",
      "Shape of c: (6, 5)\n"
     ]
    }
   ],
   "source": [
    "print (\"Shape of a:\", a.shape)\n",
    "print (\"Shape of b:\", b.shape)\n",
    "print (\"Shape of c:\", c.shape)\n"
   ]
  },
  {
   "cell_type": "code",
   "execution_count": 109,
   "metadata": {},
   "outputs": [
    {
     "name": "stdout",
     "output_type": "stream",
     "text": [
      "\n",
      "a looks like\n",
      " -------------------- \n",
      " [49 96 36 71  1 71 75 99 46 78 70 81 62 16 54 29 13 21 10 13 64 51 36 50\n",
      " 92 72  8 21 83 81] \n",
      " --------------------\n",
      "\n",
      "b looks like\n",
      " -------------------- \n",
      " [[[49 96 36 71  1]\n",
      "  [71 75 99 46 78]\n",
      "  [70 81 62 16 54]]\n",
      "\n",
      " [[29 13 21 10 13]\n",
      "  [64 51 36 50 92]\n",
      "  [72  8 21 83 81]]] \n",
      " --------------------\n",
      "\n",
      "c looks like\n",
      " -------------------- \n",
      " [[49 96 36 71  1]\n",
      " [71 75 99 46 78]\n",
      " [70 81 62 16 54]\n",
      " [29 13 21 10 13]\n",
      " [64 51 36 50 92]\n",
      " [72  8 21 83 81]] \n",
      " --------------------\n"
     ]
    }
   ],
   "source": [
    "print(\"\\na looks like\\n\",'-'*20,\"\\n\",a,\"\\n\",'-'*20)\n",
    "print(\"\\nb looks like\\n\",'-'*20,\"\\n\",b,\"\\n\",'-'*20)\n",
    "print(\"\\nc looks like\\n\",'-'*20,\"\\n\",c,\"\\n\",'-'*20)\n"
   ]
  },
  {
   "cell_type": "code",
   "execution_count": 110,
   "metadata": {},
   "outputs": [
    {
     "name": "stdout",
     "output_type": "stream",
     "text": [
      "\n",
      "Vector of random integers\n",
      " -------------------------------------------------- \n",
      " [35 83 64 11 44 49 37 97 58 42]\n",
      "\n",
      "Here is the sorted vector\n",
      " -------------------------------------------------- \n",
      " [11 35 37 42 44 49 58 64 83 97]\n"
     ]
    }
   ],
   "source": [
    "A = ri(1,100,10) # Vector of random interegrs\n",
    "print(\"\\nVector of random integers\\n\",'-'*50,\"\\n\",A)\n",
    "print(\"\\nHere is the sorted vector\\n\",'-'*50,\"\\n\",np.sort(A, kind='mergesort'))\n"
   ]
  },
  {
   "cell_type": "code",
   "execution_count": 111,
   "metadata": {},
   "outputs": [
    {
     "name": "stdout",
     "output_type": "stream",
     "text": [
      "\n",
      "5x5 Matrix of random integers\n",
      " -------------------------------------------------- \n",
      " [[71  6 57 83 55]\n",
      " [13 58  8 80 22]\n",
      " [26 66 35 18 53]\n",
      " [70 83 42 81 28]\n",
      " [77 72 27 76 16]]\n",
      "\n",
      "Here is the sorted matrix along each row\n",
      " -------------------------------------------------- \n",
      " [[ 6 55 57 71 83]\n",
      " [ 8 13 22 58 80]\n",
      " [18 26 35 53 66]\n",
      " [28 42 70 81 83]\n",
      " [16 27 72 76 77]]\n",
      "\n",
      "Here is the sorted matrix along each column\n",
      " -------------------------------------------------- \n",
      " [[13  6  8 18 16]\n",
      " [26 58 27 76 22]\n",
      " [70 66 35 80 28]\n",
      " [71 72 42 81 53]\n",
      " [77 83 57 83 55]]\n"
     ]
    }
   ],
   "source": [
    "M = ri(1,100,25).reshape(5,5) # Matrix of random interegrs\n",
    "print(\"\\n5x5 Matrix of random integers\\n\",'-'*50,\"\\n\",M)\n",
    "print(\"\\nHere is the sorted matrix along each row\\n\",'-'*50,\"\\n\",np.sort(M, kind='mergesort')) # Default axis =1\n",
    "print(\"\\nHere is the sorted matrix along each column\\n\",'-'*50,\"\\n\",np.sort(M, axis=0, kind='mergesort'))"
   ]
  },
  {
   "cell_type": "code",
   "execution_count": 112,
   "metadata": {},
   "outputs": [
    {
     "name": "stdout",
     "output_type": "stream",
     "text": [
      "Max of a: 99\n",
      "Max of b: 99\n"
     ]
    }
   ],
   "source": [
    "print(\"Max of a:\", a.max())\n",
    "print(\"Max of b:\", b.max())\n"
   ]
  },
  {
   "cell_type": "code",
   "execution_count": 113,
   "metadata": {},
   "outputs": [
    {
     "name": "stdout",
     "output_type": "stream",
     "text": [
      "Max of a location: 7\n",
      "Max of b location: 7\n",
      "Max of c location: 7\n"
     ]
    }
   ],
   "source": [
    "print(\"Max of a location:\", a.argmax())\n",
    "print(\"Max of b location:\", b.argmax())\n",
    "print(\"Max of c location:\", b.argmax())"
   ]
  },
  {
   "cell_type": "markdown",
   "metadata": {},
   "source": [
    "# Indexing and slicing"
   ]
  },
  {
   "cell_type": "code",
   "execution_count": 114,
   "metadata": {},
   "outputs": [
    {
     "name": "stdout",
     "output_type": "stream",
     "text": [
      "Array: [ 0  1  2  3  4  5  6  7  8  9 10]\n"
     ]
    }
   ],
   "source": [
    "arr = np.arange(0,11)\n",
    "print(\"Array:\",arr)\n"
   ]
  },
  {
   "cell_type": "code",
   "execution_count": 115,
   "metadata": {},
   "outputs": [
    {
     "name": "stdout",
     "output_type": "stream",
     "text": [
      "Element at 7th index is: 7\n"
     ]
    }
   ],
   "source": [
    "print(\"Element at 7th index is:\", arr[7])\n"
   ]
  },
  {
   "cell_type": "code",
   "execution_count": 116,
   "metadata": {},
   "outputs": [
    {
     "name": "stdout",
     "output_type": "stream",
     "text": [
      "Elements from 3rd to 5th index are: [3 4 5]\n"
     ]
    }
   ],
   "source": [
    "print(\"Elements from 3rd to 5th index are:\", arr[3:6])\n"
   ]
  },
  {
   "cell_type": "code",
   "execution_count": 117,
   "metadata": {},
   "outputs": [
    {
     "name": "stdout",
     "output_type": "stream",
     "text": [
      "Elements up to 4th index are: [0 1 2 3]\n"
     ]
    }
   ],
   "source": [
    "print(\"Elements up to 4th index are:\", arr[:4])\n"
   ]
  },
  {
   "cell_type": "code",
   "execution_count": 118,
   "metadata": {},
   "outputs": [
    {
     "name": "stdout",
     "output_type": "stream",
     "text": [
      "Elements from last backwards are: [10  9  8  7  6  5  4  3  2  1  0]\n"
     ]
    }
   ],
   "source": [
    "print(\"Elements from last backwards are:\", arr[-1::-1])\n"
   ]
  },
  {
   "cell_type": "code",
   "execution_count": 119,
   "metadata": {},
   "outputs": [
    {
     "name": "stdout",
     "output_type": "stream",
     "text": [
      "3 Elements from last backwards are: [10  8  6]\n"
     ]
    }
   ],
   "source": [
    "print(\"3 Elements from last backwards are:\", arr[-1:-6:-2])\n"
   ]
  },
  {
   "cell_type": "code",
   "execution_count": 120,
   "metadata": {},
   "outputs": [
    {
     "name": "stdout",
     "output_type": "stream",
     "text": [
      "New array: [ 0  2  4  6  8 10 12 14 16 18 20]\n"
     ]
    }
   ],
   "source": [
    "arr = np.arange(0,21,2)\n",
    "print(\"New array:\",arr)\n"
   ]
  },
  {
   "cell_type": "code",
   "execution_count": 121,
   "metadata": {},
   "outputs": [
    {
     "name": "stdout",
     "output_type": "stream",
     "text": [
      "Elements at 2nd, 4th, and 9th index are: [ 4  8 18]\n"
     ]
    }
   ],
   "source": [
    "print(\"Elements at 2nd, 4th, and 9th index are:\", arr[[2,4,9]]) # Pass a list as a index to subset"
   ]
  },
  {
   "cell_type": "code",
   "execution_count": 122,
   "metadata": {},
   "outputs": [
    {
     "name": "stdout",
     "output_type": "stream",
     "text": [
      "Matrix of random 2-digit numbers\n",
      "--------------------------------\n",
      " [[44 59 55 40 89]\n",
      " [29 12 98 11 22]\n",
      " [41 87 96 92 22]]\n"
     ]
    }
   ],
   "source": [
    "mat = np.array(ri(10,100,15)).reshape(3,5)\n",
    "print(\"Matrix of random 2-digit numbers\\n--------------------------------\\n\",mat)\n"
   ]
  },
  {
   "cell_type": "code",
   "execution_count": 123,
   "metadata": {},
   "outputs": [
    {
     "name": "stdout",
     "output_type": "stream",
     "text": [
      "\n",
      "Double bracket indexing\n",
      "------------------------\n",
      "Element in row index 1 and column index 2: 98\n"
     ]
    }
   ],
   "source": [
    "print(\"\\nDouble bracket indexing\\n------------------------\")\n",
    "print(\"Element in row index 1 and column index 2:\", mat[1][2])\n"
   ]
  },
  {
   "cell_type": "code",
   "execution_count": 124,
   "metadata": {},
   "outputs": [
    {
     "name": "stdout",
     "output_type": "stream",
     "text": [
      "\n",
      "Single bracket with comma indexing\n",
      "----------------------------------\n",
      "Element in row index 1 and column index 2: 98\n",
      "\n",
      "Row or column extract\n",
      "----------------------\n"
     ]
    }
   ],
   "source": [
    "print(\"\\nSingle bracket with comma indexing\\n----------------------------------\")\n",
    "print(\"Element in row index 1 and column index 2:\", mat[1,2])\n",
    "print(\"\\nRow or column extract\\n----------------------\")\n"
   ]
  },
  {
   "cell_type": "code",
   "execution_count": 125,
   "metadata": {},
   "outputs": [
    {
     "name": "stdout",
     "output_type": "stream",
     "text": [
      "Entire row at index 2: [41 87 96 92 22]\n",
      "Entire column at index 3: [40 11 92]\n"
     ]
    }
   ],
   "source": [
    "print(\"Entire row at index 2:\", mat[2])\n",
    "print(\"Entire column at index 3:\", mat[:,3])\n"
   ]
  },
  {
   "cell_type": "code",
   "execution_count": 126,
   "metadata": {},
   "outputs": [
    {
     "name": "stdout",
     "output_type": "stream",
     "text": [
      "\n",
      "Subsetting sub-matrices\n",
      "--------------------------\n",
      "Matrix with row indices 1 and 2 and column indices 3 and 4\n",
      " [[11 22]\n",
      " [92 22]]\n"
     ]
    }
   ],
   "source": [
    "print(\"\\nSubsetting sub-matrices\\n--------------------------\")\n",
    "print(\"Matrix with row indices 1 and 2 and column indices 3 and 4\\n\", mat[1:3,3:5])\n"
   ]
  },
  {
   "cell_type": "code",
   "execution_count": 127,
   "metadata": {},
   "outputs": [
    {
     "name": "stdout",
     "output_type": "stream",
     "text": [
      "Matrix with row indices 0 and 1 and column indices 1 and 3\n",
      " [[59 40]\n",
      " [12 11]]\n"
     ]
    }
   ],
   "source": [
    "print(\"Matrix with row indices 0 and 1 and column indices 1 and 3\\n\", mat[0:2,[1,3]])"
   ]
  },
  {
   "cell_type": "markdown",
   "metadata": {},
   "source": [
    "# Subseting"
   ]
  },
  {
   "cell_type": "code",
   "execution_count": 128,
   "metadata": {},
   "outputs": [
    {
     "name": "stdout",
     "output_type": "stream",
     "text": [
      "Matrix of random 2-digit numbers\n",
      "--------------------------------\n",
      " [[55 92 64 40 48]\n",
      " [37 11 36 50 32]\n",
      " [87 55 78 26 10]]\n"
     ]
    }
   ],
   "source": [
    "mat = np.array(ri(10,100,15)).reshape(3,5)\n",
    "print(\"Matrix of random 2-digit numbers\\n--------------------------------\\n\",mat)\n"
   ]
  },
  {
   "cell_type": "code",
   "execution_count": 129,
   "metadata": {},
   "outputs": [
    {
     "name": "stdout",
     "output_type": "stream",
     "text": [
      "Elements greater than 50\n",
      " [55 92 64 87 55 78]\n"
     ]
    }
   ],
   "source": [
    "print (\"Elements greater than 50\\n\", mat[mat>50])"
   ]
  },
  {
   "cell_type": "markdown",
   "metadata": {},
   "source": [
    "# Slicing"
   ]
  },
  {
   "cell_type": "code",
   "execution_count": 130,
   "metadata": {},
   "outputs": [
    {
     "name": "stdout",
     "output_type": "stream",
     "text": [
      "Original matrix\n",
      "[[11 12 13]\n",
      " [21 22 23]\n",
      " [31 32 33]]\n"
     ]
    }
   ],
   "source": [
    "mat = np.array([[11,12,13],[21,22,23],[31,32,33]])\n",
    "print(\"Original matrix\")\n",
    "print(mat)\n"
   ]
  },
  {
   "cell_type": "code",
   "execution_count": 131,
   "metadata": {},
   "outputs": [
    {
     "name": "stdout",
     "output_type": "stream",
     "text": [
      "\n",
      "Sliced matrix\n",
      "[[11 12]\n",
      " [21 22]]\n",
      "\n",
      "Change the sliced matrix\n"
     ]
    }
   ],
   "source": [
    "mat_slice = mat[:2,:2]\n",
    "print (\"\\nSliced matrix\")\n",
    "print(mat_slice)\n",
    "print (\"\\nChange the sliced matrix\")"
   ]
  },
  {
   "cell_type": "code",
   "execution_count": 132,
   "metadata": {},
   "outputs": [
    {
     "name": "stdout",
     "output_type": "stream",
     "text": [
      "[[1000   12]\n",
      " [  21   22]]\n"
     ]
    }
   ],
   "source": [
    "mat_slice[0,0] = 1000\n",
    "print (mat_slice)"
   ]
  },
  {
   "cell_type": "code",
   "execution_count": 133,
   "metadata": {},
   "outputs": [
    {
     "name": "stdout",
     "output_type": "stream",
     "text": [
      "\n",
      "But the original matrix? WHOA! It got changed too!\n",
      "[[1000   12   13]\n",
      " [  21   22   23]\n",
      " [  31   32   33]]\n"
     ]
    }
   ],
   "source": [
    "print(\"\\nBut the original matrix? WHOA! It got changed too!\")\n",
    "print(mat)\n"
   ]
  },
  {
   "cell_type": "code",
   "execution_count": 134,
   "metadata": {},
   "outputs": [
    {
     "name": "stdout",
     "output_type": "stream",
     "text": [
      "\n",
      "Doing it again little differently now...\n",
      "\n",
      "Original matrix\n",
      "[[11 12 13]\n",
      " [21 22 23]\n",
      " [31 32 33]]\n"
     ]
    }
   ],
   "source": [
    "# Little different way to create a copy of the slixed matrix\n",
    "print (\"\\nDoing it again little differently now...\\n\")\n",
    "mat = np.array([[11,12,13],[21,22,23],[31,32,33]])\n",
    "print(\"Original matrix\")\n",
    "print(mat)\n"
   ]
  },
  {
   "cell_type": "code",
   "execution_count": 135,
   "metadata": {},
   "outputs": [
    {
     "name": "stdout",
     "output_type": "stream",
     "text": [
      "\n",
      "Sliced matrix\n",
      "[[11 12]\n",
      " [21 22]]\n"
     ]
    }
   ],
   "source": [
    "mat_slice = np.array(mat[:2,:2]) # Notice the np.array command to create a new array not just slicing\n",
    "print (\"\\nSliced matrix\")\n",
    "print(mat_slice)\n"
   ]
  },
  {
   "cell_type": "code",
   "execution_count": 136,
   "metadata": {},
   "outputs": [
    {
     "name": "stdout",
     "output_type": "stream",
     "text": [
      "\n",
      "Change the sliced matrix\n",
      "[[1000   12]\n",
      " [  21   22]]\n"
     ]
    }
   ],
   "source": [
    "print (\"\\nChange the sliced matrix\")\n",
    "mat_slice[0,0] = 1000\n",
    "print (mat_slice)\n"
   ]
  },
  {
   "cell_type": "code",
   "execution_count": 137,
   "metadata": {},
   "outputs": [
    {
     "name": "stdout",
     "output_type": "stream",
     "text": [
      "\n",
      "But the original matrix? NO CHANGE this time:)\n",
      "[[11 12 13]\n",
      " [21 22 23]\n",
      " [31 32 33]]\n"
     ]
    }
   ],
   "source": [
    "print(\"\\nBut the original matrix? NO CHANGE this time:)\")\n",
    "print(mat)"
   ]
  },
  {
   "cell_type": "markdown",
   "metadata": {},
   "source": [
    "# Universal Functions"
   ]
  },
  {
   "cell_type": "code",
   "execution_count": 138,
   "metadata": {},
   "outputs": [
    {
     "name": "stdout",
     "output_type": "stream",
     "text": [
      "\n",
      "1st Matrix of random single-digit numbers\n",
      "----------------------------------------\n",
      " [[3 3 6]\n",
      " [7 2 8]\n",
      " [3 1 2]]\n",
      "\n",
      "2nd Matrix of random single-digit numbers\n",
      "----------------------------------------\n",
      " [[3 1 1]\n",
      " [9 4 5]\n",
      " [5 3 9]]\n"
     ]
    }
   ],
   "source": [
    "mat1 = np.array(ri(1,10,9)).reshape(3,3)\n",
    "mat2 = np.array(ri(1,10,9)).reshape(3,3)\n",
    "print(\"\\n1st Matrix of random single-digit numbers\\n----------------------------------------\\n\",mat1)\n",
    "print(\"\\n2nd Matrix of random single-digit numbers\\n----------------------------------------\\n\",mat2)\n"
   ]
  },
  {
   "cell_type": "code",
   "execution_count": 139,
   "metadata": {},
   "outputs": [
    {
     "name": "stdout",
     "output_type": "stream",
     "text": [
      "\n",
      "Addition\n",
      "------------------\n",
      " [[ 6  4  7]\n",
      " [16  6 13]\n",
      " [ 8  4 11]]\n",
      "\n",
      "Multiplication\n",
      "------------------\n",
      " [[ 9  3  6]\n",
      " [63  8 40]\n",
      " [15  3 18]]\n"
     ]
    }
   ],
   "source": [
    "print(\"\\nAddition\\n------------------\\n\", mat1+mat2)\n",
    "print(\"\\nMultiplication\\n------------------\\n\", mat1*mat2)\n"
   ]
  },
  {
   "cell_type": "code",
   "execution_count": 140,
   "metadata": {},
   "outputs": [
    {
     "name": "stdout",
     "output_type": "stream",
     "text": [
      "\n",
      "Division\n",
      "------------------\n",
      " [[1.         3.         6.        ]\n",
      " [0.77777778 0.5        1.6       ]\n",
      " [0.6        0.33333333 0.22222222]]\n",
      "\n",
      "Lineaer combination: 3*A - 2*B\n",
      "-----------------------------\n",
      " [[  3   7  16]\n",
      " [  3  -2  14]\n",
      " [ -1  -3 -12]]\n"
     ]
    }
   ],
   "source": [
    "print(\"\\nDivision\\n------------------\\n\", mat1/mat2)\n",
    "print(\"\\nLineaer combination: 3*A - 2*B\\n-----------------------------\\n\", 3*mat1-2*mat2)\n"
   ]
  },
  {
   "cell_type": "code",
   "execution_count": 141,
   "metadata": {},
   "outputs": [
    {
     "name": "stdout",
     "output_type": "stream",
     "text": [
      "\n",
      "Addition of a scalar (100)\n",
      "-------------------------\n",
      " [[103 103 106]\n",
      " [107 102 108]\n",
      " [103 101 102]]\n"
     ]
    }
   ],
   "source": [
    "print(\"\\nAddition of a scalar (100)\\n-------------------------\\n\", 100+mat1)\n"
   ]
  },
  {
   "cell_type": "code",
   "execution_count": 142,
   "metadata": {},
   "outputs": [
    {
     "name": "stdout",
     "output_type": "stream",
     "text": [
      "\n",
      "Exponentiation, matrix cubed here\n",
      "----------------------------------------\n",
      " [[ 27  27 216]\n",
      " [343   8 512]\n",
      " [ 27   1   8]]\n",
      "\n",
      "Exponentiation, sq-root using pow function\n",
      "-------------------------------------------\n",
      " [[1.73205081 1.73205081 2.44948974]\n",
      " [2.64575131 1.41421356 2.82842712]\n",
      " [1.73205081 1.         1.41421356]]\n"
     ]
    }
   ],
   "source": [
    "print(\"\\nExponentiation, matrix cubed here\\n----------------------------------------\\n\", mat1**3)\n",
    "print(\"\\nExponentiation, sq-root using pow function\\n-------------------------------------------\\n\",pow(mat1,0.5))"
   ]
  },
  {
   "cell_type": "markdown",
   "metadata": {},
   "source": [
    "# Broadcasting"
   ]
  },
  {
   "cell_type": "code",
   "execution_count": 143,
   "metadata": {},
   "outputs": [],
   "source": [
    "#NumPy operations are usually done on pairs of arrays on an element-by-element basis. \n",
    "#In the simplest case, the two arrays must have exactly the same shape.\n",
    "#NumPy’s broadcasting rule relaxes this constraint when the arrays’ shapes meet certain constraints. \n",
    "#When operating on two arrays, NumPy compares their shapes element-wise. It starts with the trailing \n",
    "#dimensions, and works its way forward. Two dimensions are compatible when\n",
    "#they are equal, or one of them is 1"
   ]
  },
  {
   "cell_type": "code",
   "execution_count": 144,
   "metadata": {},
   "outputs": [
    {
     "name": "stdout",
     "output_type": "stream",
     "text": [
      "[[0. 0. 0.]\n",
      " [0. 0. 0.]\n",
      " [0. 0. 0.]\n",
      " [0. 0. 0.]]\n"
     ]
    }
   ],
   "source": [
    "start = np.zeros((4,3))\n",
    "print(start)"
   ]
  },
  {
   "cell_type": "code",
   "execution_count": 145,
   "metadata": {},
   "outputs": [
    {
     "name": "stdout",
     "output_type": "stream",
     "text": [
      "[1 0 2]\n"
     ]
    }
   ],
   "source": [
    "# create a rank 1 ndarray with 3 values\n",
    "add_rows = np.array([1, 0, 2])\n",
    "print(add_rows)"
   ]
  },
  {
   "cell_type": "code",
   "execution_count": 146,
   "metadata": {},
   "outputs": [
    {
     "name": "stdout",
     "output_type": "stream",
     "text": [
      "[[1. 0. 2.]\n",
      " [1. 0. 2.]\n",
      " [1. 0. 2.]\n",
      " [1. 0. 2.]]\n"
     ]
    }
   ],
   "source": [
    "y = start + add_rows  # add to each row of 'start' using broadcasting\n",
    "print(y)"
   ]
  },
  {
   "cell_type": "code",
   "execution_count": 147,
   "metadata": {},
   "outputs": [
    {
     "name": "stdout",
     "output_type": "stream",
     "text": [
      "[[0]\n",
      " [1]\n",
      " [2]\n",
      " [3]]\n"
     ]
    }
   ],
   "source": [
    "# create an ndarray which is 4 x 1 to broadcast across columns\n",
    "add_cols = np.array([[0,1,2,3]])\n",
    "add_cols = add_cols.T\n",
    "print(add_cols)"
   ]
  },
  {
   "cell_type": "code",
   "execution_count": 148,
   "metadata": {},
   "outputs": [
    {
     "name": "stdout",
     "output_type": "stream",
     "text": [
      "[[0. 0. 0.]\n",
      " [1. 1. 1.]\n",
      " [2. 2. 2.]\n",
      " [3. 3. 3.]]\n"
     ]
    }
   ],
   "source": [
    "# add to each column of 'start' using broadcasting\n",
    "y = start + add_cols \n",
    "print(y)"
   ]
  },
  {
   "cell_type": "code",
   "execution_count": 149,
   "metadata": {},
   "outputs": [
    {
     "name": "stdout",
     "output_type": "stream",
     "text": [
      "[[100. 100. 100.]\n",
      " [100. 100. 100.]\n",
      " [100. 100. 100.]\n",
      " [100. 100. 100.]]\n"
     ]
    }
   ],
   "source": [
    "# this will just broadcast in both dimensions\n",
    "add_scalar = np.array([100])  \n",
    "print(start+add_scalar)"
   ]
  },
  {
   "cell_type": "markdown",
   "metadata": {},
   "source": [
    "# Array Math"
   ]
  },
  {
   "cell_type": "code",
   "execution_count": 150,
   "metadata": {},
   "outputs": [
    {
     "name": "stdout",
     "output_type": "stream",
     "text": [
      "\n",
      "1st Matrix of random single-digit numbers\n",
      "----------------------------------------\n",
      " [[9 9 7]\n",
      " [5 5 5]\n",
      " [5 4 2]]\n",
      "\n",
      "2nd Matrix of random single-digit numbers\n",
      "----------------------------------------\n",
      " [[7 2 2]\n",
      " [9 5 8]\n",
      " [3 5 2]]\n"
     ]
    }
   ],
   "source": [
    "mat1 = np.array(ri(1,10,9)).reshape(3,3)\n",
    "mat2 = np.array(ri(1,10,9)).reshape(3,3)\n",
    "print(\"\\n1st Matrix of random single-digit numbers\\n----------------------------------------\\n\",mat1)\n",
    "print(\"\\n2nd Matrix of random single-digit numbers\\n----------------------------------------\\n\",mat2)\n"
   ]
  },
  {
   "cell_type": "code",
   "execution_count": 151,
   "metadata": {},
   "outputs": [
    {
     "name": "stdout",
     "output_type": "stream",
     "text": [
      "\n",
      "Sq-root of 1st matrix using np\n",
      "------------------\n",
      " [[3.         3.         2.64575131]\n",
      " [2.23606798 2.23606798 2.23606798]\n",
      " [2.23606798 2.         1.41421356]]\n"
     ]
    }
   ],
   "source": [
    "print(\"\\nSq-root of 1st matrix using np\\n------------------\\n\", np.sqrt(mat1))\n"
   ]
  },
  {
   "cell_type": "code",
   "execution_count": 152,
   "metadata": {},
   "outputs": [
    {
     "name": "stdout",
     "output_type": "stream",
     "text": [
      "\n",
      "Exponential power of 1st matrix using np\n",
      " -------------------------------------------------- \n",
      " [[8.10308393e+03 8.10308393e+03 1.09663316e+03]\n",
      " [1.48413159e+02 1.48413159e+02 1.48413159e+02]\n",
      " [1.48413159e+02 5.45981500e+01 7.38905610e+00]]\n"
     ]
    }
   ],
   "source": [
    "print(\"\\nExponential power of 1st matrix using np\\n\",'-'*50,\"\\n\", np.exp(mat1))\n"
   ]
  },
  {
   "cell_type": "code",
   "execution_count": 153,
   "metadata": {},
   "outputs": [
    {
     "name": "stdout",
     "output_type": "stream",
     "text": [
      "\n",
      "10-base logarithm on 1st matrix using np\n",
      " -------------------------------------------------- \n",
      " [[0.95424251 0.95424251 0.84509804]\n",
      " [0.69897    0.69897    0.69897   ]\n",
      " [0.69897    0.60205999 0.30103   ]]\n"
     ]
    }
   ],
   "source": [
    "print(\"\\n10-base logarithm on 1st matrix using np\\n\",'-'*50,\"\\n\", np.log10(mat1))\n"
   ]
  },
  {
   "cell_type": "code",
   "execution_count": 154,
   "metadata": {},
   "outputs": [
    {
     "name": "stdout",
     "output_type": "stream",
     "text": [
      "\n",
      "Modulo reminder using np\n",
      " -------------------------------------------------- \n",
      " [[2 1 1]\n",
      " [5 0 5]\n",
      " [2 4 0]]\n"
     ]
    }
   ],
   "source": [
    "print(\"\\nModulo reminder using np\\n\",'-'*50,\"\\n\", np.fmod(mat1,mat2))\n"
   ]
  },
  {
   "cell_type": "code",
   "execution_count": 155,
   "metadata": {},
   "outputs": [
    {
     "name": "stdout",
     "output_type": "stream",
     "text": [
      "\n",
      "Combination of functions by shwoing exponetial decay of a sine wave\n",
      " ----------------------------------------------------------------------\n"
     ]
    }
   ],
   "source": [
    "print(\"\\nCombination of functions by shwoing exponetial decay of a sine wave\\n\",'-'*70)\n"
   ]
  },
  {
   "cell_type": "code",
   "execution_count": 156,
   "metadata": {},
   "outputs": [],
   "source": [
    "A = np.linspace(0,12*np.pi,1001)\n"
   ]
  },
  {
   "cell_type": "code",
   "execution_count": 157,
   "metadata": {},
   "outputs": [
    {
     "data": {
      "text/plain": [
       "array([ 0.        ,  0.03769911,  0.07539822, ..., 37.62371362,\n",
       "       37.66141273, 37.69911184])"
      ]
     },
     "execution_count": 157,
     "metadata": {},
     "output_type": "execute_result"
    }
   ],
   "source": [
    "A"
   ]
  },
  {
   "cell_type": "code",
   "execution_count": 158,
   "metadata": {},
   "outputs": [
    {
     "data": {
      "image/png": "[encoded data removed]",
      "text/plain": [
       "<Figure size 432x288 with 1 Axes>"
      ]
     },
     "metadata": {
      "needs_background": "light"
     },
     "output_type": "display_data"
    }
   ],
   "source": [
    "import matplotlib.pyplot as plt\n",
    "plt.scatter(x=A,y=100*np.exp(-A/10)*(np.sin(A)))\n",
    "plt.title(\"Exponential decay of sine wave: exp(-x)*sin(x)\")\n",
    "plt.show()"
   ]
  }
 ],
 "metadata": {
  "kernelspec": {
   "display_name": "Python 3",
   "language": "python",
   "name": "python3"
  },
  "language_info": {
   "codemirror_mode": {
    "name": "ipython",
    "version": 3
   },
   "file_extension": ".py",
   "mimetype": "text/x-python",
   "name": "python",
   "nbconvert_exporter": "python",
   "pygments_lexer": "ipython3",
   "version": "3.7.6"
  }
 },
 "nbformat": 4,
 "nbformat_minor": 2
}
