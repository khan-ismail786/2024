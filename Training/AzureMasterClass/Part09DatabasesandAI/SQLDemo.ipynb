{
    "metadata": {
        "kernelspec": {
            "name": "SQL",
            "display_name": "SQL",
            "language": "sql"
        },
        "language_info": {
            "name": "sql",
            "version": ""
        }
    },
    "nbformat_minor": 2,
    "nbformat": 4,
    "cells": [
        {
            "cell_type": "markdown",
            "source": [
                "# Azure Master Class SQL Server Demo\n",
                "\n",
                " Basic SQL Information"
            ],
            "metadata": {
                "azdata_cell_guid": "fee94e4f-47f7-40b5-899a-f14bf2efe692"
            }
        },
        {
            "cell_type": "code",
            "source": [
                "SELECT @@VERSION"
            ],
            "metadata": {
                "azdata_cell_guid": "7f801c54-7c42-4ecd-b6b0-f8b3f7d99750",
                "tags": [
                    "hide_input"
                ]
            },
            "outputs": [
                {
                    "output_type": "display_data",
                    "data": {
                        "text/html": "(1 row affected)"
                    },
                    "metadata": {}
                },
                {
                    "output_type": "display_data",
                    "data": {
                        "text/html": "Total execution time: 00:00:00.063"
                    },
                    "metadata": {}
                },
                {
                    "output_type": "execute_result",
                    "execution_count": 4,
                    "data": {
                        "application/vnd.dataresource+json": {
                            "schema": {
                                "fields": [
                                    {
                                        "name": "(No column name)"
                                    }
                                ]
                            },
                            "data": [
                                {
                                    "0": "Microsoft SQL Azure (RTM) - 12.0.2000.8 \n\tSep 11 2020 22:32:15 \n\tCopyright (C) 2019 Microsoft Corporation\n"
                                }
                            ]
                        },
                        "text/html": "<table><tr><th>(No column name)</th></tr><tr><td>Microsoft SQL Azure (RTM) - 12.0.2000.8 \n\tSep 11 2020 22:32:15 \n\tCopyright (C) 2019 Microsoft Corporation\n</td></tr></table>"
                    },
                    "metadata": {}
                }
            ],
            "execution_count": 4
        },
        {
            "cell_type": "code",
            "source": [
                "SELECT SERVERPROPERTY('EngineEdition')\r\n",
                "SELECT * FROM sys.dm_user_db_resource_governance"
            ],
            "metadata": {
                "azdata_cell_guid": "fa99a1cb-ddda-492c-894e-22a349dc49dd",
                "tags": [
                    "hide_input"
                ]
            },
            "outputs": [],
            "execution_count": null
        },
        {
            "cell_type": "markdown",
            "source": [
                "Get roster content"
            ],
            "metadata": {
                "azdata_cell_guid": "8c72ae02-07c1-4ddc-8e02-6c01b80ffaa8"
            }
        },
        {
            "cell_type": "code",
            "source": [
                "SELECT *\r\n",
                "  FROM [justice].[Roster]"
            ],
            "metadata": {
                "azdata_cell_guid": "47ce47c1-ece8-4764-a6b4-6a43d758d773",
                "tags": []
            },
            "outputs": [
                {
                    "output_type": "display_data",
                    "data": {
                        "text/html": "(4 rows affected)"
                    },
                    "metadata": {}
                },
                {
                    "output_type": "display_data",
                    "data": {
                        "text/html": "Total execution time: 00:00:00.082"
                    },
                    "metadata": {}
                },
                {
                    "output_type": "execute_result",
                    "metadata": {},
                    "execution_count": 2,
                    "data": {
                        "application/vnd.dataresource+json": {
                            "schema": {
                                "fields": [
                                    {
                                        "name": "FirstName"
                                    },
                                    {
                                        "name": "LastName"
                                    },
                                    {
                                        "name": "CodeName"
                                    },
                                    {
                                        "name": "MotherName"
                                    }
                                ]
                            },
                            "data": [
                                {
                                    "0": "Bruce",
                                    "1": "Wayne",
                                    "2": "Batman",
                                    "3": "0x0100CB11E4F4FA06279C0A2FD2C54EF065B8B86ABDC9DB0555973DDDF2EF7E8DAE73BA9CC4CE4826BDB3F4E2DF1DCC2406EABCA3212668358ABF25120C064493BD"
                                },
                                {
                                    "0": "Clark",
                                    "1": "Kent",
                                    "2": "Superman",
                                    "3": "0x0100CB11E4F4FA06279C0A2FD2C54EF065B8B86ABDC9DB0555973DDDF2EF7E8DAE73BA9CC4CE4826BDB3F4E2DF1DCC2406EABCA3212668358ABF25120C064493BD"
                                },
                                {
                                    "0": "Diana",
                                    "1": "Prince",
                                    "2": "Wonder Woman",
                                    "3": "0x013A171121FA9F19D69BE5820D0DE71DB8286A985CFF5CE8A2411344C5A6BCA3AD73A962FCF576C79E059B87FAB56A147D7B1142B92082FB685305D378BC277372"
                                },
                                {
                                    "0": "Barry",
                                    "1": "Allen",
                                    "2": "Flash",
                                    "3": "0x019B47E0B8EA4E2F74905380376D018019ECFAD9B9934AE597F83DE5C33F1E1A11979119F411A817BC571031145454B70EEAB84AB6CD28986E169FD81CAD887670"
                                }
                            ]
                        },
                        "text/html": [
                            "<table>",
                            "<tr><th>FirstName</th><th>LastName</th><th>CodeName</th><th>MotherName</th></tr>",
                            "<tr><td>Bruce</td><td>Wayne</td><td>Batman</td><td>0x0100CB11E4F4FA06279C0A2FD2C54EF065B8B86ABDC9DB0555973DDDF2EF7E8DAE73BA9CC4CE4826BDB3F4E2DF1DCC2406EABCA3212668358ABF25120C064493BD</td></tr>",
                            "<tr><td>Clark</td><td>Kent</td><td>Superman</td><td>0x0100CB11E4F4FA06279C0A2FD2C54EF065B8B86ABDC9DB0555973DDDF2EF7E8DAE73BA9CC4CE4826BDB3F4E2DF1DCC2406EABCA3212668358ABF25120C064493BD</td></tr>",
                            "<tr><td>Diana</td><td>Prince</td><td>Wonder Woman</td><td>0x013A171121FA9F19D69BE5820D0DE71DB8286A985CFF5CE8A2411344C5A6BCA3AD73A962FCF576C79E059B87FAB56A147D7B1142B92082FB685305D378BC277372</td></tr>",
                            "<tr><td>Barry</td><td>Allen</td><td>Flash</td><td>0x019B47E0B8EA4E2F74905380376D018019ECFAD9B9934AE597F83DE5C33F1E1A11979119F411A817BC571031145454B70EEAB84AB6CD28986E169FD81CAD887670</td></tr>",
                            "</table>"
                        ]
                    }
                }
            ],
            "execution_count": 2
        },
        {
            "cell_type": "markdown",
            "source": [
                "Masking test"
            ],
            "metadata": {
                "azdata_cell_guid": "89d0853d-3f05-4882-ae4e-78b331bfcd4c"
            }
        },
        {
            "cell_type": "code",
            "source": [
                "CREATE USER AquaMan WITH PASSWORD = 'Ih3artF1sh!'\r\n",
                "ALTER ROLE db_datareader ADD MEMBER AquaMan\r\n",
                "ALTER ROLE db_datawriter ADD MEMBER AquaMan"
            ],
            "metadata": {
                "azdata_cell_guid": "9abdf6de-bc9d-4f8e-9e42-9756124c5115",
                "tags": []
            },
            "outputs": [],
            "execution_count": null
        },
        {
            "cell_type": "code",
            "source": [
                "EXECUTE AS USER = 'AquaMan';\r\n",
                "SELECT FirstName, LastName, CodeName\r\n",
                "  FROM [justice].[Roster];\r\n",
                "REVERT;"
            ],
            "metadata": {
                "azdata_cell_guid": "48fa834e-3227-4f0e-96fc-031151952baf",
                "tags": []
            },
            "outputs": [],
            "execution_count": null
        },
        {
            "cell_type": "code",
            "source": [
                "GRANT UNMASK TO AquaMan;"
            ],
            "metadata": {
                "azdata_cell_guid": "21762f03-50e4-418d-8de1-e8552d307533",
                "tags": [
                    "hide_input"
                ]
            },
            "outputs": [],
            "execution_count": null
        },
        {
            "cell_type": "code",
            "source": [
                "REVOKE UNMASK TO AquaMan;"
            ],
            "metadata": {
                "azdata_cell_guid": "915d17f1-2e08-40dc-ad62-859557849048",
                "tags": [
                    "hide_input"
                ]
            },
            "outputs": [],
            "execution_count": null
        }
    ]
}